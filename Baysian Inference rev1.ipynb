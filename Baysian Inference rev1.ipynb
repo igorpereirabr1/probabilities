{
 "cells": [
  {
   "cell_type": "code",
   "execution_count": 1,
   "metadata": {},
   "outputs": [],
   "source": [
    "import pandas as pd\n",
    "import numpy as np\n",
    "import matplotlib.pyplot as plt"
   ]
  },
  {
   "cell_type": "code",
   "execution_count": 43,
   "metadata": {},
   "outputs": [
    {
     "name": "stdout",
     "output_type": "stream",
     "text": [
      "Retencão com base nas conversas avaliadas pelo analista:  0.417\n",
      "Qual a é incerteza associada?\n"
     ]
    },
    {
     "data": {
      "text/plain": [
       "<matplotlib.axes._subplots.AxesSubplot at 0x1861264ce80>"
      ]
     },
     "execution_count": 43,
     "metadata": {},
     "output_type": "execute_result"
    },
    {
     "data": {
      "image/png": "[encoded data removed]",
      "text/plain": [
       "<Figure size 432x288 with 1 Axes>"
      ]
     },
     "metadata": {
      "needs_background": "light"
     },
     "output_type": "display_data"
    }
   ],
   "source": [
    "P = 5000 #total conversas disponíves\n",
    "A = 60   #total conversas avaliadas pelo analista\n",
    "r = 25   #total conversas solucionadas\n",
    "m = 0.7  #meta de retencao\n",
    "\n",
    "print('Retencão com base nas conversas avaliadas pelo analista: ',round((r/A),3))\n",
    "print(\"Qual a é incerteza associada?\")\n",
    "\n",
    "conversas_avaliadas = []\n",
    "taxa_retencao = []\n",
    "\n",
    "\n",
    "for k in range(500000):\n",
    "    u = np.random.uniform()\n",
    "    s = np.count_nonzero(np.random.binomial(1, u, A))\n",
    "    taxa_retencao.append(u)\n",
    "    conversas_avaliadas.append(s)\n",
    "    \n",
    "results = {'conversas_avaliadas': conversas_avaliadas, 'taxa_retencao': taxa_retencao}\n",
    "\n",
    "df = pd.DataFrame.from_dict(results)\n",
    "df[df.conversas_avaliadas==r].taxa_retencao.hist()\n"
   ]
  },
  {
   "cell_type": "code",
   "execution_count": 7,
   "metadata": {},
   "outputs": [
    {
     "data": {
      "text/plain": [
       "count    8249.000000\n",
       "mean        0.419480\n",
       "std         0.062340\n",
       "min         0.204465\n",
       "25%         0.377453\n",
       "50%         0.419022\n",
       "75%         0.460562\n",
       "max         0.663709\n",
       "Name: taxa_retencao, dtype: float64"
      ]
     },
     "execution_count": 7,
     "metadata": {},
     "output_type": "execute_result"
    }
   ],
   "source": [
    "df[df.conversas_avaliadas==r].taxa_retencao.describe()"
   ]
  },
  {
   "cell_type": "code",
   "execution_count": 48,
   "metadata": {
    "scrolled": true
   },
   "outputs": [
    {
     "data": {
      "text/plain": [
       "<matplotlib.axes._subplots.AxesSubplot at 0x1860e175358>"
      ]
     },
     "execution_count": 48,
     "metadata": {},
     "output_type": "execute_result"
    },
    {
     "data": {
      "image/png": "[encoded data removed]",
      "text/plain": [
       "<Figure size 432x288 with 1 Axes>"
      ]
     },
     "metadata": {
      "needs_background": "light"
     },
     "output_type": "display_data"
    }
   ],
   "source": [
    "df[df.conversas_avaliadas==25].taxa_retencao.hist()"
   ]
  },
  {
   "cell_type": "code",
   "execution_count": null,
   "metadata": {},
   "outputs": [],
   "source": [
    "np.count_nonzero(np.random.binomial(n, p, A))"
   ]
  },
  {
   "cell_type": "code",
   "execution_count": null,
   "metadata": {},
   "outputs": [],
   "source": [
    "np.random.uniform(low=0.1,high=0.85)"
   ]
  },
  {
   "cell_type": "code",
   "execution_count": 51,
   "metadata": {},
   "outputs": [
    {
     "name": "stdout",
     "output_type": "stream",
     "text": [
      "Retencão com base nas conversas avaliadas pelo analista:  0.3\n",
      "Qual a é incerteza associada?\n"
     ]
    },
    {
     "data": {
      "text/plain": [
       "<matplotlib.axes._subplots.AxesSubplot at 0x1860e1fb198>"
      ]
     },
     "execution_count": 51,
     "metadata": {},
     "output_type": "execute_result"
    },
    {
     "data": {
      "image/png": "[encoded data removed]",
      "text/plain": [
       "<Figure size 432x288 with 1 Axes>"
      ]
     },
     "metadata": {
      "needs_background": "light"
     },
     "output_type": "display_data"
    }
   ],
   "source": [
    "A = 50   #total conversas avaliadas pelo analista\n",
    "r = 15   #total conversas solucionadas\n",
    "m = 0.7  #meta de retencao\n",
    "\n",
    "print('Retencão com base nas conversas avaliadas pelo analista: ',round((r/A),3))\n",
    "print(\"Qual a é incerteza associada?\")\n",
    "\n",
    "conversas_avaliadas = []\n",
    "taxa_retencao = []\n",
    "\n",
    "\n",
    "for k in range(500000):\n",
    "    u = np.random.uniform()\n",
    "    s = np.count_nonzero(np.random.binomial(1, u, A))\n",
    "    taxa_retencao.append(u)\n",
    "    conversas_avaliadas.append(s)\n",
    "    \n",
    "results = {'conversas_avaliadas': conversas_avaliadas, 'taxa_retencao': taxa_retencao}\n",
    "\n",
    "df = pd.DataFrame.from_dict(results)\n",
    "df[df.conversas_avaliadas==r].taxa_retencao.hist()\n"
   ]
  },
  {
   "cell_type": "code",
   "execution_count": 50,
   "metadata": {},
   "outputs": [
    {
     "name": "stdout",
     "output_type": "stream",
     "text": [
      "Retencão com base nas conversas avaliadas pelo analista:  0.25\n",
      "Qual a é incerteza associada?\n"
     ]
    },
    {
     "data": {
      "text/plain": [
       "<matplotlib.axes._subplots.AxesSubplot at 0x1860b78e550>"
      ]
     },
     "execution_count": 50,
     "metadata": {},
     "output_type": "execute_result"
    },
    {
     "data": {
      "image/png": "[encoded data removed]",
      "text/plain": [
       "<Figure size 432x288 with 1 Axes>"
      ]
     },
     "metadata": {
      "needs_background": "light"
     },
     "output_type": "display_data"
    }
   ],
   "source": [
    "P = 5000 #total conversas disponíves\n",
    "A = 100   #total conversas avaliadas pelo analista\n",
    "r = 25   #total conversas solucionadas\n",
    "m = 0.7  #meta de retencao\n",
    "\n",
    "print('Retencão com base nas conversas avaliadas pelo analista: ',round((r/A),3))\n",
    "print(\"Qual a é incerteza associada?\")\n",
    "\n",
    "conversas_avaliadas = []\n",
    "taxa_retencao = []\n",
    "\n",
    "\n",
    "for k in range(500000):\n",
    "    u = np.random.uniform()\n",
    "    s = np.count_nonzero(np.random.binomial(1, u, A))\n",
    "    taxa_retencao.append(u)\n",
    "    conversas_avaliadas.append(s)\n",
    "    \n",
    "results = {'conversas_avaliadas': conversas_avaliadas, 'taxa_retencao': taxa_retencao}\n",
    "\n",
    "df = pd.DataFrame.from_dict(results)\n",
    "df[df.conversas_avaliadas==r].taxa_retencao.hist()\n"
   ]
  },
  {
   "cell_type": "code",
   "execution_count": null,
   "metadata": {},
   "outputs": [],
   "source": [
    "df[df.conversas_avaliadas==25].taxa_retencao.describe()"
   ]
  },
  {
   "cell_type": "code",
   "execution_count": 11,
   "metadata": {},
   "outputs": [
    {
     "data": {
      "text/plain": [
       "(array([ 12.,  33.,  80., 172., 259., 240., 143.,  44.,  14.,   3.]),\n",
       " array([-3.09173452, -2.4430811 , -1.79442769, -1.14577427, -0.49712086,\n",
       "         0.15153256,  0.80018598,  1.44883939,  2.09749281,  2.74614622,\n",
       "         3.39479964]),\n",
       " <a list of 10 Patch objects>)"
      ]
     },
     "execution_count": 11,
     "metadata": {},
     "output_type": "execute_result"
    },
    {
     "data": {
      "image/png": "[encoded data removed]",
      "text/plain": [
       "<Figure size 432x288 with 1 Axes>"
      ]
     },
     "metadata": {
      "needs_background": "light"
     },
     "output_type": "display_data"
    }
   ],
   "source": [
    "plt.hist(np.random.normal(size=1000))"
   ]
  },
  {
   "cell_type": "code",
   "execution_count": 17,
   "metadata": {},
   "outputs": [
    {
     "data": {
      "text/plain": [
       "(array([534., 237., 118.,  50.,  28.,  18.,   6.,   4.,   4.,   1.]),\n",
       " array([1.57885084e-03, 7.03212228e-01, 1.40484561e+00, 2.10647898e+00,\n",
       "        2.80811236e+00, 3.50974574e+00, 4.21137912e+00, 4.91301249e+00,\n",
       "        5.61464587e+00, 6.31627925e+00, 7.01791263e+00]),\n",
       " <a list of 10 Patch objects>)"
      ]
     },
     "execution_count": 17,
     "metadata": {},
     "output_type": "execute_result"
    },
    {
     "data": {
      "image/png": "[encoded data removed]",
      "text/plain": [
       "<Figure size 432x288 with 1 Axes>"
      ]
     },
     "metadata": {
      "needs_background": "light"
     },
     "output_type": "display_data"
    }
   ],
   "source": [
    "plt.hist(np.random.exponential(size=1000))"
   ]
  },
  {
   "cell_type": "code",
   "execution_count": 29,
   "metadata": {},
   "outputs": [
    {
     "data": {
      "text/plain": [
       "(array([509.,   0.,   0.,   0.,   0.,   0.,   0.,   0.,   0., 491.]),\n",
       " array([0. , 0.1, 0.2, 0.3, 0.4, 0.5, 0.6, 0.7, 0.8, 0.9, 1. ]),\n",
       " <a list of 10 Patch objects>)"
      ]
     },
     "execution_count": 29,
     "metadata": {},
     "output_type": "execute_result"
    },
    {
     "data": {
      "image/png": "[encoded data removed]",
      "text/plain": [
       "<Figure size 432x288 with 1 Axes>"
      ]
     },
     "metadata": {
      "needs_background": "light"
     },
     "output_type": "display_data"
    }
   ],
   "source": [
    "plt.hist(np.random.binomial(1,.5,1000))"
   ]
  },
  {
   "cell_type": "code",
   "execution_count": 30,
   "metadata": {},
   "outputs": [
    {
     "data": {
      "text/plain": [
       "(array([  4.,   8.,  27.,  99., 346., 357., 114.,  32.,  10.,   3.]),\n",
       " array([-6.24493963, -5.00461212, -3.76428462, -2.52395711, -1.2836296 ,\n",
       "        -0.0433021 ,  1.19702541,  2.43735292,  3.67768042,  4.91800793,\n",
       "         6.15833543]),\n",
       " <a list of 10 Patch objects>)"
      ]
     },
     "execution_count": 30,
     "metadata": {},
     "output_type": "execute_result"
    },
    {
     "data": {
      "image/png": "[encoded data removed]",
      "text/plain": [
       "<Figure size 432x288 with 1 Axes>"
      ]
     },
     "metadata": {
      "needs_background": "light"
     },
     "output_type": "display_data"
    }
   ],
   "source": [
    "plt.hist(np.random.laplace(size=1000))"
   ]
  },
  {
   "cell_type": "code",
   "execution_count": 31,
   "metadata": {},
   "outputs": [
    {
     "data": {
      "text/plain": [
       "(array([364.,   0., 355.,   0., 203.,   0.,  57.,   0.,  17.,   4.]),\n",
       " array([0. , 0.5, 1. , 1.5, 2. , 2.5, 3. , 3.5, 4. , 4.5, 5. ]),\n",
       " <a list of 10 Patch objects>)"
      ]
     },
     "execution_count": 31,
     "metadata": {},
     "output_type": "execute_result"
    },
    {
     "data": {
      "image/png": "[encoded data removed]",
      "text/plain": [
       "<Figure size 432x288 with 1 Axes>"
      ]
     },
     "metadata": {
      "needs_background": "light"
     },
     "output_type": "display_data"
    }
   ],
   "source": [
    "plt.hist(np.random.poisson(size=1000))"
   ]
  },
  {
   "cell_type": "code",
   "execution_count": 34,
   "metadata": {},
   "outputs": [
    {
     "data": {
      "text/plain": [
       "(array([113., 403., 298., 127.,  34.,  21.,   2.,   0.,   1.,   1.]),\n",
       " array([-2.0096213 , -0.80791524,  0.39379082,  1.59549688,  2.79720294,\n",
       "         3.998909  ,  5.20061506,  6.40232111,  7.60402717,  8.80573323,\n",
       "        10.00743929]),\n",
       " <a list of 10 Patch objects>)"
      ]
     },
     "execution_count": 34,
     "metadata": {},
     "output_type": "execute_result"
    },
    {
     "data": {
      "image/png": "[encoded data removed]",
      "text/plain": [
       "<Figure size 432x288 with 1 Axes>"
      ]
     },
     "metadata": {
      "needs_background": "light"
     },
     "output_type": "display_data"
    }
   ],
   "source": [
    "plt.hist(np.random.gumbel(size=1000))"
   ]
  },
  {
   "cell_type": "code",
   "execution_count": 41,
   "metadata": {},
   "outputs": [
    {
     "data": {
      "text/plain": [
       "(array([0., 0., 0., 0., 0., 1., 0., 0., 0., 0.]),\n",
       " array([994.11494417, 994.21494417, 994.31494417, 994.41494417,\n",
       "        994.51494417, 994.61494417, 994.71494417, 994.81494417,\n",
       "        994.91494417, 995.01494417, 995.11494417]),\n",
       " <a list of 10 Patch objects>)"
      ]
     },
     "execution_count": 41,
     "metadata": {},
     "output_type": "execute_result"
    },
    {
     "data": {
      "image/png": "[encoded data removed]",
      "text/plain": [
       "<Figure size 432x288 with 1 Axes>"
      ]
     },
     "metadata": {
      "needs_background": "light"
     },
     "output_type": "display_data"
    }
   ],
   "source": [
    "plt.hist(np.random.gamma(1000))"
   ]
  },
  {
   "cell_type": "code",
   "execution_count": 96,
   "metadata": {},
   "outputs": [],
   "source": [
    "#Objetivo é prever a probabilidade de jogar 4 moédas e as 4 cairem com a mesma face\n",
    "result = {\"tentativa\":[]}\n",
    "\n",
    "for k in range(1000000):\n",
    "    result[\"tentativa\"].append(np.count_nonzero(np.random.binomial(1, .5, 2)))\n",
    "    \n",
    "teste = pd.DataFrame(result)"
   ]
  },
  {
   "cell_type": "code",
   "execution_count": 97,
   "metadata": {},
   "outputs": [
    {
     "data": {
      "text/plain": [
       "tentativa    0.25031\n",
       "dtype: float64"
      ]
     },
     "execution_count": 97,
     "metadata": {},
     "output_type": "execute_result"
    }
   ],
   "source": [
    "x = teste.loc[teste.tentativa==2].count()\n",
    "x/teste.tentativa.count()"
   ]
  },
  {
   "cell_type": "code",
   "execution_count": 78,
   "metadata": {},
   "outputs": [
    {
     "data": {
      "text/plain": [
       "100000"
      ]
     },
     "execution_count": 78,
     "metadata": {},
     "output_type": "execute_result"
    }
   ],
   "source": [
    "teste.tentativa.count()"
   ]
  },
  {
   "cell_type": "code",
   "execution_count": null,
   "metadata": {},
   "outputs": [],
   "source": []
  },
  {
   "cell_type": "code",
   "execution_count": null,
   "metadata": {},
   "outputs": [],
   "source": []
  }
 ],
 "metadata": {
  "kernelspec": {
   "display_name": "Python 3",
   "language": "python",
   "name": "python3"
  },
  "language_info": {
   "codemirror_mode": {
    "name": "ipython",
    "version": 3
   },
   "file_extension": ".py",
   "mimetype": "text/x-python",
   "name": "python",
   "nbconvert_exporter": "python",
   "pygments_lexer": "ipython3",
   "version": "3.7.3"
  }
 },
 "nbformat": 4,
 "nbformat_minor": 2
}
